{
 "cells": [
  {
   "cell_type": "markdown",
   "metadata": {},
   "source": [
    "### **Konfigurasi dan inisialisasi Great Expectations**"
   ]
  },
  {
   "cell_type": "code",
   "execution_count": 1,
   "metadata": {},
   "outputs": [],
   "source": [
    "from great_expectations.data_context import FileDataContext # mengimport dari pustaka Great Expectations. \n",
    "context = FileDataContext.create(project_root_dir='./') # Ini adalah direktori root proyek Great Expectations, di mana konfigurasi dan data terkait proyek akan disimpan."
   ]
  },
  {
   "cell_type": "code",
   "execution_count": 2,
   "metadata": {},
   "outputs": [],
   "source": [
    "# membuat nama sumber data\n",
    "datasource_name = 'data_m3_fix'\n",
    "\n",
    "# membuat sebuah sumber data dengan nama yang telah ditentukan\n",
    "datasource = context.sources.add_pandas(datasource_name)\n",
    "\n",
    "# menentukan nama aset\n",
    "asset_name = 'birdstrikes_fix'\n",
    "# menentukan jalur ke berkas data CSV yang akan diuji\n",
    "path_to_data = 'C:\\\\Users\\\\noufa\\\\github-classroom\\\\FTDS-assignment-bay\\\\p2-ftds008-hck-m3-Antonio1206\\\\airflow\\\\data\\\\P2M3_antonius_daeng_data_clean.csv'\n",
    "# menambahkan aset data ke sumber data yang telah ditentukan\n",
    "asset = datasource.add_csv_asset(asset_name, filepath_or_buffer=path_to_data)\n",
    "\n",
    "# membangun permintaan batch yang akan digunakan untuk menguji aset data\n",
    "batch_request = asset.build_batch_request()"
   ]
  },
  {
   "cell_type": "markdown",
   "metadata": {},
   "source": [
    "#### **ekspektasi suite** ***(expectation suite)***"
   ]
  },
  {
   "cell_type": "code",
   "execution_count": 26,
   "metadata": {},
   "outputs": [
    {
     "data": {
      "application/vnd.jupyter.widget-view+json": {
       "model_id": "e444c7aa3d684cd983a4232617384c80",
       "version_major": 2,
       "version_minor": 0
      },
      "text/plain": [
       "Calculating Metrics:   0%|          | 0/1 [00:00<?, ?it/s]"
      ]
     },
     "metadata": {},
     "output_type": "display_data"
    },
    {
     "data": {
      "text/html": [
       "<div>\n",
       "<style scoped>\n",
       "    .dataframe tbody tr th:only-of-type {\n",
       "        vertical-align: middle;\n",
       "    }\n",
       "\n",
       "    .dataframe tbody tr th {\n",
       "        vertical-align: top;\n",
       "    }\n",
       "\n",
       "    .dataframe thead th {\n",
       "        text-align: right;\n",
       "    }\n",
       "</style>\n",
       "<table border=\"1\" class=\"dataframe\">\n",
       "  <thead>\n",
       "    <tr style=\"text-align: right;\">\n",
       "      <th></th>\n",
       "      <th>brand</th>\n",
       "      <th>model</th>\n",
       "      <th>sd_card</th>\n",
       "      <th>main_camera</th>\n",
       "      <th>resolution</th>\n",
       "      <th>display</th>\n",
       "      <th>sim_card</th>\n",
       "      <th>Sistem_operasi</th>\n",
       "      <th>color</th>\n",
       "      <th>region</th>\n",
       "      <th>location</th>\n",
       "      <th>screen_size</th>\n",
       "      <th>battery</th>\n",
       "      <th>storage</th>\n",
       "      <th>ram</th>\n",
       "      <th>selfie_camera</th>\n",
       "      <th>price</th>\n",
       "    </tr>\n",
       "  </thead>\n",
       "  <tbody>\n",
       "    <tr>\n",
       "      <th>0</th>\n",
       "      <td>Samsung</td>\n",
       "      <td>Galaxy S10</td>\n",
       "      <td>yes</td>\n",
       "      <td>3 Cameras: 12, 12, 16 MP</td>\n",
       "      <td>1440 x 3040</td>\n",
       "      <td>AMOLED</td>\n",
       "      <td>Single</td>\n",
       "      <td>Android</td>\n",
       "      <td>White</td>\n",
       "      <td>Greater Accra</td>\n",
       "      <td>Circle</td>\n",
       "      <td>6.10</td>\n",
       "      <td>3400.0</td>\n",
       "      <td>128.0</td>\n",
       "      <td>8.0</td>\n",
       "      <td>10.0</td>\n",
       "      <td>2450</td>\n",
       "    </tr>\n",
       "    <tr>\n",
       "      <th>1</th>\n",
       "      <td>Samsung</td>\n",
       "      <td>Galaxy Note 20 Ultra</td>\n",
       "      <td>yes</td>\n",
       "      <td>3 Cameras: 108, 12, 12 MP</td>\n",
       "      <td>1440 x 3088</td>\n",
       "      <td>AMOLED</td>\n",
       "      <td>Dual</td>\n",
       "      <td>Android</td>\n",
       "      <td>Bronze</td>\n",
       "      <td>Greater Accra</td>\n",
       "      <td>Circle</td>\n",
       "      <td>6.90</td>\n",
       "      <td>4500.0</td>\n",
       "      <td>128.0</td>\n",
       "      <td>12.0</td>\n",
       "      <td>10.0</td>\n",
       "      <td>5000</td>\n",
       "    </tr>\n",
       "    <tr>\n",
       "      <th>2</th>\n",
       "      <td>Samsung</td>\n",
       "      <td>Galaxy A54 5G</td>\n",
       "      <td>yes</td>\n",
       "      <td>3 Cameras: 50, 12, 5 MP</td>\n",
       "      <td>1080 x 2340</td>\n",
       "      <td>Super AMOLED</td>\n",
       "      <td>Dual</td>\n",
       "      <td>Android</td>\n",
       "      <td>Black</td>\n",
       "      <td>Greater Accra</td>\n",
       "      <td>Accra Metropolitan</td>\n",
       "      <td>6.40</td>\n",
       "      <td>5000.0</td>\n",
       "      <td>256.0</td>\n",
       "      <td>8.0</td>\n",
       "      <td>32.0</td>\n",
       "      <td>3000</td>\n",
       "    </tr>\n",
       "    <tr>\n",
       "      <th>3</th>\n",
       "      <td>Tecno</td>\n",
       "      <td>Camon 20 Pro</td>\n",
       "      <td>no</td>\n",
       "      <td>2 Cameras: 64, 2 MP</td>\n",
       "      <td>1080 x 2400</td>\n",
       "      <td>AMOLED</td>\n",
       "      <td>Dual</td>\n",
       "      <td>Android</td>\n",
       "      <td>Black</td>\n",
       "      <td>Greater Accra</td>\n",
       "      <td>Accra Metropolitan</td>\n",
       "      <td>6.67</td>\n",
       "      <td>5000.0</td>\n",
       "      <td>256.0</td>\n",
       "      <td>8.0</td>\n",
       "      <td>32.0</td>\n",
       "      <td>1900</td>\n",
       "    </tr>\n",
       "    <tr>\n",
       "      <th>4</th>\n",
       "      <td>Samsung</td>\n",
       "      <td>Galaxy S22 Ultra</td>\n",
       "      <td>no</td>\n",
       "      <td>4 Cameras: 108, 10, 10, 12 MP</td>\n",
       "      <td>1400 x 3088</td>\n",
       "      <td>AMOLED</td>\n",
       "      <td>Dual</td>\n",
       "      <td>Android</td>\n",
       "      <td>Black</td>\n",
       "      <td>Greater Accra</td>\n",
       "      <td>Accra Metropolitan</td>\n",
       "      <td>6.80</td>\n",
       "      <td>5000.0</td>\n",
       "      <td>512.0</td>\n",
       "      <td>12.0</td>\n",
       "      <td>40.0</td>\n",
       "      <td>5750</td>\n",
       "    </tr>\n",
       "  </tbody>\n",
       "</table>\n",
       "</div>"
      ],
      "text/plain": [
       "     brand                 model sd_card                    main_camera  \\\n",
       "0  Samsung            Galaxy S10     yes       3 Cameras: 12, 12, 16 MP   \n",
       "1  Samsung  Galaxy Note 20 Ultra     yes      3 Cameras: 108, 12, 12 MP   \n",
       "2  Samsung         Galaxy A54 5G     yes        3 Cameras: 50, 12, 5 MP   \n",
       "3    Tecno          Camon 20 Pro      no            2 Cameras: 64, 2 MP   \n",
       "4  Samsung      Galaxy S22 Ultra      no  4 Cameras: 108, 10, 10, 12 MP   \n",
       "\n",
       "    resolution       display sim_card Sistem_operasi   color         region  \\\n",
       "0  1440 x 3040        AMOLED   Single        Android   White  Greater Accra   \n",
       "1  1440 x 3088        AMOLED     Dual        Android  Bronze  Greater Accra   \n",
       "2  1080 x 2340  Super AMOLED     Dual        Android   Black  Greater Accra   \n",
       "3  1080 x 2400        AMOLED     Dual        Android   Black  Greater Accra   \n",
       "4  1400 x 3088        AMOLED     Dual        Android   Black  Greater Accra   \n",
       "\n",
       "             location  screen_size  battery  storage   ram  selfie_camera  \\\n",
       "0              Circle         6.10   3400.0    128.0   8.0           10.0   \n",
       "1              Circle         6.90   4500.0    128.0  12.0           10.0   \n",
       "2  Accra Metropolitan         6.40   5000.0    256.0   8.0           32.0   \n",
       "3  Accra Metropolitan         6.67   5000.0    256.0   8.0           32.0   \n",
       "4  Accra Metropolitan         6.80   5000.0    512.0  12.0           40.0   \n",
       "\n",
       "   price  \n",
       "0   2450  \n",
       "1   5000  \n",
       "2   3000  \n",
       "3   1900  \n",
       "4   5750  "
      ]
     },
     "execution_count": 26,
     "metadata": {},
     "output_type": "execute_result"
    }
   ],
   "source": [
    "expectation_suite_name = 'expectation-data-m3_fix' # menentukan nama ekspektasi suite.\n",
    "context.add_or_update_expectation_suite(expectation_suite_name) # menambahkan atau memperbarui ekspektasi suite dengan nama yang telah ditentukan\n",
    "\n",
    "# menciptakan sebuah validator. \n",
    "validator = context.get_validator(\n",
    "    batch_request = batch_request,\n",
    "    expectation_suite_name = expectation_suite_name\n",
    ")\n",
    "# melihat hasil pengujian validasi data untuk beberapa baris pertama \n",
    "validator.head()"
   ]
  },
  {
   "cell_type": "markdown",
   "metadata": {},
   "source": [
    "#### **1. apakah semua nilai dalam kolom `price` adalah unik**"
   ]
  },
  {
   "cell_type": "code",
   "execution_count": 18,
   "metadata": {},
   "outputs": [
    {
     "data": {
      "application/vnd.jupyter.widget-view+json": {
       "model_id": "20470a11e9494982bdce8ff376de8421",
       "version_major": 2,
       "version_minor": 0
      },
      "text/plain": [
       "Calculating Metrics:   0%|          | 0/8 [00:00<?, ?it/s]"
      ]
     },
     "metadata": {},
     "output_type": "display_data"
    },
    {
     "data": {
      "text/plain": [
       "{\n",
       "  \"success\": true,\n",
       "  \"result\": {\n",
       "    \"element_count\": 1724,\n",
       "    \"unexpected_count\": 1579,\n",
       "    \"unexpected_percent\": 91.5893271461717,\n",
       "    \"partial_unexpected_list\": [\n",
       "      2450,\n",
       "      5000,\n",
       "      3000,\n",
       "      1900,\n",
       "      2800,\n",
       "      3710,\n",
       "      3710,\n",
       "      2450,\n",
       "      2700,\n",
       "      1930,\n",
       "      1400,\n",
       "      2050,\n",
       "      2550,\n",
       "      1410,\n",
       "      2100,\n",
       "      7500,\n",
       "      5500,\n",
       "      5000,\n",
       "      1430,\n",
       "      1930\n",
       "    ],\n",
       "    \"missing_count\": 0,\n",
       "    \"missing_percent\": 0.0,\n",
       "    \"unexpected_percent_total\": 91.5893271461717,\n",
       "    \"unexpected_percent_nonmissing\": 91.5893271461717\n",
       "  },\n",
       "  \"meta\": {},\n",
       "  \"exception_info\": {\n",
       "    \"raised_exception\": false,\n",
       "    \"exception_traceback\": null,\n",
       "    \"exception_message\": null\n",
       "  }\n",
       "}"
      ]
     },
     "execution_count": 18,
     "metadata": {},
     "output_type": "execute_result"
    }
   ],
   "source": [
    "validator.expect_column_values_to_be_unique('price', mostly=.08)"
   ]
  },
  {
   "cell_type": "markdown",
   "metadata": {},
   "source": [
    "#### **2. apakah semua nilai dalam kolom `battery` berada dalam rentang antara 0 hingga 100,000**"
   ]
  },
  {
   "cell_type": "code",
   "execution_count": 19,
   "metadata": {},
   "outputs": [
    {
     "data": {
      "application/vnd.jupyter.widget-view+json": {
       "model_id": "c393f6b78fb74582bc980d8e8b90d944",
       "version_major": 2,
       "version_minor": 0
      },
      "text/plain": [
       "Calculating Metrics:   0%|          | 0/8 [00:00<?, ?it/s]"
      ]
     },
     "metadata": {},
     "output_type": "display_data"
    },
    {
     "data": {
      "text/plain": [
       "{\n",
       "  \"success\": true,\n",
       "  \"result\": {\n",
       "    \"element_count\": 1724,\n",
       "    \"unexpected_count\": 0,\n",
       "    \"unexpected_percent\": 0.0,\n",
       "    \"partial_unexpected_list\": [],\n",
       "    \"missing_count\": 0,\n",
       "    \"missing_percent\": 0.0,\n",
       "    \"unexpected_percent_total\": 0.0,\n",
       "    \"unexpected_percent_nonmissing\": 0.0\n",
       "  },\n",
       "  \"meta\": {},\n",
       "  \"exception_info\": {\n",
       "    \"raised_exception\": false,\n",
       "    \"exception_traceback\": null,\n",
       "    \"exception_message\": null\n",
       "  }\n",
       "}"
      ]
     },
     "execution_count": 19,
     "metadata": {},
     "output_type": "execute_result"
    }
   ],
   "source": [
    "validator.expect_column_values_to_be_between(column='battery', min_value=0, max_value=100000)"
   ]
  },
  {
   "cell_type": "markdown",
   "metadata": {},
   "source": [
    "#### **3. apakah semua nilai dalam kolom `brand` adalah anggota dari set nilai yang telah ditentukan.**"
   ]
  },
  {
   "cell_type": "code",
   "execution_count": 24,
   "metadata": {},
   "outputs": [
    {
     "data": {
      "application/vnd.jupyter.widget-view+json": {
       "model_id": "98c42a833e7f474e84e0e7ffd91bd508",
       "version_major": 2,
       "version_minor": 0
      },
      "text/plain": [
       "Calculating Metrics:   0%|          | 0/8 [00:00<?, ?it/s]"
      ]
     },
     "metadata": {},
     "output_type": "display_data"
    },
    {
     "data": {
      "text/plain": [
       "{\n",
       "  \"success\": true,\n",
       "  \"result\": {\n",
       "    \"element_count\": 1724,\n",
       "    \"unexpected_count\": 0,\n",
       "    \"unexpected_percent\": 0.0,\n",
       "    \"partial_unexpected_list\": [],\n",
       "    \"missing_count\": 0,\n",
       "    \"missing_percent\": 0.0,\n",
       "    \"unexpected_percent_total\": 0.0,\n",
       "    \"unexpected_percent_nonmissing\": 0.0\n",
       "  },\n",
       "  \"meta\": {},\n",
       "  \"exception_info\": {\n",
       "    \"raised_exception\": false,\n",
       "    \"exception_traceback\": null,\n",
       "    \"exception_message\": null\n",
       "  }\n",
       "}"
      ]
     },
     "execution_count": 24,
     "metadata": {},
     "output_type": "execute_result"
    }
   ],
   "source": [
    "validator.expect_column_values_to_be_in_set('brand', value_set=['Samsung', 'Tecno', 'LG', 'Vivo', 'Huawei', 'Infinix', 'Apple',\n",
    "       'Google', 'Oppo', 'Nokia', 'Other Brand', 'Itel', 'Motorola',\n",
    "       'Realme', 'Xiaomi', 'Meizu', 'OnePlus', 'Bontel', 'HTC', 'X-Tigi','Honor'])"
   ]
  },
  {
   "cell_type": "markdown",
   "metadata": {},
   "source": [
    "#### **4. apakah semua nilai dalam kolom `main_camera` adalah tipe data list**"
   ]
  },
  {
   "cell_type": "code",
   "execution_count": 37,
   "metadata": {},
   "outputs": [
    {
     "data": {
      "application/vnd.jupyter.widget-view+json": {
       "model_id": "3abff400b04844ca93667a38bfcce94c",
       "version_major": 2,
       "version_minor": 0
      },
      "text/plain": [
       "Calculating Metrics:   0%|          | 0/8 [00:00<?, ?it/s]"
      ]
     },
     "metadata": {},
     "output_type": "display_data"
    },
    {
     "data": {
      "text/plain": [
       "{\n",
       "  \"success\": false,\n",
       "  \"result\": {\n",
       "    \"element_count\": 1724,\n",
       "    \"unexpected_count\": 1724,\n",
       "    \"unexpected_percent\": 100.0,\n",
       "    \"partial_unexpected_list\": [\n",
       "      \"3 Cameras: 12, 12, 16 MP\",\n",
       "      \"3 Cameras: 108, 12, 12 MP\",\n",
       "      \"3 Cameras: 50, 12, 5 MP\",\n",
       "      \"2 Cameras: 64, 2 MP\",\n",
       "      \"4 Cameras: 108, 10, 10, 12 MP\",\n",
       "      \"4 Cameras: 108, 12, 5, 5 MP\",\n",
       "      \"3 Cameras: 50, 12, 5 MP\",\n",
       "      \"4 Cameras: 200, 10, 10, 12 MP\",\n",
       "      \"3 Cameras: 50, 12, 5 MP\",\n",
       "      \"3 Cameras: 50, 12, 5 MP\",\n",
       "      \"3 Cameras: 50, 108, 2 MP\",\n",
       "      \"3 Cameras: 50, 108, 2 MP\",\n",
       "      \"4 Cameras: 200, 10, 10, 12 MP\",\n",
       "      \"3 Cameras: 50, 12, 5 MP\",\n",
       "      \"3 Cameras: 50, 12, 5 MP\",\n",
       "      \"4 Cameras: 200, 10, 10, 12 MP\",\n",
       "      \"2 Cameras: 64, 2 MP\",\n",
       "      \"1 Cameras: 50 MP\",\n",
       "      \"3 Cameras: 50, 12, 5 MP\",\n",
       "      \"3 Cameras: 50, 108, 2 MP\"\n",
       "    ],\n",
       "    \"missing_count\": 0,\n",
       "    \"missing_percent\": 0.0,\n",
       "    \"unexpected_percent_total\": 100.0,\n",
       "    \"unexpected_percent_nonmissing\": 100.0\n",
       "  },\n",
       "  \"meta\": {},\n",
       "  \"exception_info\": {\n",
       "    \"raised_exception\": false,\n",
       "    \"exception_traceback\": null,\n",
       "    \"exception_message\": null\n",
       "  }\n",
       "}"
      ]
     },
     "execution_count": 37,
     "metadata": {},
     "output_type": "execute_result"
    }
   ],
   "source": [
    "validator.expect_column_values_to_be_of_type('main_camera', 'list')\n"
   ]
  },
  {
   "cell_type": "markdown",
   "metadata": {},
   "source": [
    "#### **5. memeriksa apakah semua nilai dalam kolom `price` adalah tipe data int64**"
   ]
  },
  {
   "cell_type": "code",
   "execution_count": 33,
   "metadata": {},
   "outputs": [
    {
     "data": {
      "application/vnd.jupyter.widget-view+json": {
       "model_id": "29cf8e297a664753993c19d1ad8cffcf",
       "version_major": 2,
       "version_minor": 0
      },
      "text/plain": [
       "Calculating Metrics:   0%|          | 0/1 [00:00<?, ?it/s]"
      ]
     },
     "metadata": {},
     "output_type": "display_data"
    },
    {
     "data": {
      "text/plain": [
       "{\n",
       "  \"success\": true,\n",
       "  \"result\": {\n",
       "    \"observed_value\": \"int64\"\n",
       "  },\n",
       "  \"meta\": {},\n",
       "  \"exception_info\": {\n",
       "    \"raised_exception\": false,\n",
       "    \"exception_traceback\": null,\n",
       "    \"exception_message\": null\n",
       "  }\n",
       "}"
      ]
     },
     "execution_count": 33,
     "metadata": {},
     "output_type": "execute_result"
    }
   ],
   "source": [
    "validator.expect_column_values_to_be_of_type('price', 'int64')"
   ]
  },
  {
   "cell_type": "markdown",
   "metadata": {},
   "source": [
    "#### **6. memeriksa panjang (length) dari setiap nilai pada kolom `brand`**"
   ]
  },
  {
   "cell_type": "code",
   "execution_count": 39,
   "metadata": {},
   "outputs": [
    {
     "data": {
      "application/vnd.jupyter.widget-view+json": {
       "model_id": "8e76bfc8e5054fa19bfa21faa4f27668",
       "version_major": 2,
       "version_minor": 0
      },
      "text/plain": [
       "Calculating Metrics:   0%|          | 0/9 [00:00<?, ?it/s]"
      ]
     },
     "metadata": {},
     "output_type": "display_data"
    },
    {
     "data": {
      "text/plain": [
       "{\n",
       "  \"success\": true,\n",
       "  \"result\": {\n",
       "    \"element_count\": 1724,\n",
       "    \"unexpected_count\": 0,\n",
       "    \"unexpected_percent\": 0.0,\n",
       "    \"partial_unexpected_list\": [],\n",
       "    \"missing_count\": 0,\n",
       "    \"missing_percent\": 0.0,\n",
       "    \"unexpected_percent_total\": 0.0,\n",
       "    \"unexpected_percent_nonmissing\": 0.0\n",
       "  },\n",
       "  \"meta\": {},\n",
       "  \"exception_info\": {\n",
       "    \"raised_exception\": false,\n",
       "    \"exception_traceback\": null,\n",
       "    \"exception_message\": null\n",
       "  }\n",
       "}"
      ]
     },
     "execution_count": 39,
     "metadata": {},
     "output_type": "execute_result"
    }
   ],
   "source": [
    "validator.expect_column_value_lengths_to_be_between('brand', min_value=1, max_value=10)"
   ]
  },
  {
   "cell_type": "markdown",
   "metadata": {},
   "source": [
    "#### **7. panjang (length) dari setiap nilai dalam kolom `price` adalah sama dengan 4 karakter**"
   ]
  },
  {
   "cell_type": "code",
   "execution_count": 48,
   "metadata": {},
   "outputs": [
    {
     "data": {
      "application/vnd.jupyter.widget-view+json": {
       "model_id": "25c45d0882924b94a4a35a4c79eb29ff",
       "version_major": 2,
       "version_minor": 0
      },
      "text/plain": [
       "Calculating Metrics:   0%|          | 0/9 [00:00<?, ?it/s]"
      ]
     },
     "metadata": {},
     "output_type": "display_data"
    },
    {
     "data": {
      "text/plain": [
       "{\n",
       "  \"success\": true,\n",
       "  \"result\": {\n",
       "    \"element_count\": 1724,\n",
       "    \"unexpected_count\": 141,\n",
       "    \"unexpected_percent\": 8.178654292343387,\n",
       "    \"partial_unexpected_list\": [\n",
       "      14800,\n",
       "      980,\n",
       "      650,\n",
       "      600,\n",
       "      850,\n",
       "      13550,\n",
       "      26650,\n",
       "      14650,\n",
       "      770,\n",
       "      699,\n",
       "      980,\n",
       "      950,\n",
       "      680,\n",
       "      13800,\n",
       "      650,\n",
       "      650,\n",
       "      990,\n",
       "      22000,\n",
       "      880,\n",
       "      650\n",
       "    ],\n",
       "    \"missing_count\": 0,\n",
       "    \"missing_percent\": 0.0,\n",
       "    \"unexpected_percent_total\": 8.178654292343387,\n",
       "    \"unexpected_percent_nonmissing\": 8.178654292343387\n",
       "  },\n",
       "  \"meta\": {},\n",
       "  \"exception_info\": {\n",
       "    \"raised_exception\": false,\n",
       "    \"exception_traceback\": null,\n",
       "    \"exception_message\": null\n",
       "  }\n",
       "}"
      ]
     },
     "execution_count": 48,
     "metadata": {},
     "output_type": "execute_result"
    }
   ],
   "source": [
    "validator.expect_column_value_lengths_to_equal(\"price\", 4, mostly=.9)"
   ]
  },
  {
   "cell_type": "markdown",
   "metadata": {},
   "source": [
    "#### **menyimpan ekspektasi suite yang telah dibuat**"
   ]
  },
  {
   "cell_type": "code",
   "execution_count": 49,
   "metadata": {},
   "outputs": [],
   "source": [
    "validator.save_expectation_suite(discard_failed_expectations=False)"
   ]
  },
  {
   "cell_type": "markdown",
   "metadata": {},
   "source": [
    "####  **Membuat sebuah checkpoint**"
   ]
  },
  {
   "cell_type": "code",
   "execution_count": 51,
   "metadata": {},
   "outputs": [],
   "source": [
    "Checkpoint = context.add_or_update_checkpoint(\n",
    "    name = 'Checkpoint',\n",
    "    validator = validator,\n",
    ")"
   ]
  },
  {
   "cell_type": "markdown",
   "metadata": {},
   "source": [
    "#### **menjalankan checkpoint**"
   ]
  },
  {
   "cell_type": "code",
   "execution_count": 52,
   "metadata": {},
   "outputs": [
    {
     "data": {
      "application/vnd.jupyter.widget-view+json": {
       "model_id": "ea3b19784b104c1babcb8c3922dab2eb",
       "version_major": 2,
       "version_minor": 0
      },
      "text/plain": [
       "Calculating Metrics:   0%|          | 0/53 [00:00<?, ?it/s]"
      ]
     },
     "metadata": {},
     "output_type": "display_data"
    }
   ],
   "source": [
    "checkpoint_result = Checkpoint.run()"
   ]
  },
  {
   "cell_type": "markdown",
   "metadata": {},
   "source": [
    "#### **generate dokumen-dokumen data docs**"
   ]
  },
  {
   "cell_type": "code",
   "execution_count": 53,
   "metadata": {},
   "outputs": [
    {
     "data": {
      "text/plain": [
       "{'local_site': 'file://c:\\\\Users\\\\noufa\\\\github-classroom\\\\FTDS-assignment-bay\\\\p2-ftds008-hck-m3-Antonio1206\\\\gx\\\\uncommitted/data_docs/local_site/index.html'}"
      ]
     },
     "execution_count": 53,
     "metadata": {},
     "output_type": "execute_result"
    }
   ],
   "source": [
    "\n",
    "context.build_data_docs()"
   ]
  }
 ],
 "metadata": {
  "kernelspec": {
   "display_name": "milestone3",
   "language": "python",
   "name": "python3"
  },
  "language_info": {
   "codemirror_mode": {
    "name": "ipython",
    "version": 3
   },
   "file_extension": ".py",
   "mimetype": "text/x-python",
   "name": "python",
   "nbconvert_exporter": "python",
   "pygments_lexer": "ipython3",
   "version": "3.10.13"
  }
 },
 "nbformat": 4,
 "nbformat_minor": 2
}
